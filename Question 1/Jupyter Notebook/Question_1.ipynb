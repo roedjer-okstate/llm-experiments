{
 "cells": [
  {
   "cell_type": "markdown",
   "metadata": {},
   "source": [
    "## BAN5763 Group Exercise 3 - Question 1\n",
    "Team: SFRR Analytics"
   ]
  },
  {
   "cell_type": "code",
   "execution_count": 1,
   "metadata": {},
   "outputs": [],
   "source": [
    "# Import all the necessary libraries\n",
    "import pandas as pd\n",
    "import numpy as np\n",
    "import matplotlib.pyplot as plt\n",
    "import os\n",
    "from dotenv import load_dotenv\n",
    "from langchain.chat_models import AzureChatOpenAI\n",
    "from langchain.schema import HumanMessage, SystemMessage, ChatMessage, AIMessage\n",
    "from langchain.vectorstores import Chroma\n",
    "from langchain.chat_models import ChatOpenAI\n",
    "from langchain.document_loaders import PyPDFLoader\n",
    "from langchain_openai import OpenAIEmbeddings\n",
    "from PIL import Image, ImageDraw\n",
    "import re\n",
    "import tiktoken"
   ]
  },
  {
   "cell_type": "markdown",
   "metadata": {},
   "source": [
    "## Document Similarity\n",
    "1. **Document Loader** \n",
    "- This component is responsible for loading the documents like pdfs from their storage location.\n",
    "\n",
    "2. **Data Chunking** \n",
    "- This task involves dividing the loaded documents into smaller, more manageable pieces or chunks. Chunking helps in processing large documents efficiently and can also improve the quality of embeddings by focusing on more coherent sections of text.\n",
    "\n",
    "3. **Create embeddings and store in Chroma DB (vector store)** \n",
    "- This step involves generating numerical representations, or embeddings, of the document chunks using natural language processing techniques. These embeddings capture the semantic meaning of the text. The embeddings are then stored in a vector database, referred to as Chroma DB, which facilitates efficient similarity searches.\n",
    "\n",
    "4. **Load existing Chroma DB (Optional)** \n",
    "- This optional step allows for the loading of an already existing Chroma DB. It is useful when you want to add new document embeddings to an existing database or simply utilize the previously stored embeddings for comparison without regenerating them.\n",
    "\n",
    "5. **Calculate embedding cost** \n",
    "- This task calculates the computational or resource cost associated with generating embeddings. It may involve tracking the time, CPU usage, or memory consumption during the embedding process. This information is crucial for optimizing the system and managing resources effectively.\n",
    "\n",
    "<br>\n",
    "\n",
    "The `text-embedding-3-small` model is chosen for vector store embeddings because:\n",
    "\n",
    "- Resource Efficiency: It consumes fewer computational resources, making it ideal for applications with limited processing power or when handling large datasets.\n",
    "- Cost Effectiveness: The smaller model reduces operational costs, particularly in environments where computational resources are billed.\n",
    "- Sufficient Accuracy: It offers adequate performance for many text similarity tasks without the need for the more nuanced understanding that larger models provide, balancing efficiency and effectiveness."
   ]
  },
  {
   "cell_type": "code",
   "execution_count": 2,
   "metadata": {},
   "outputs": [],
   "source": [
    "def load_document(file):\n",
    "    \"\"\"\n",
    "    Load a document from a file and return the text content.\n",
    "    \"\"\"\n",
    "    name, extension = os.path.splitext(file)\n",
    "\n",
    "    if extension == '.pdf':\n",
    "        from langchain.document_loaders import PyPDFLoader\n",
    "        print(f'Loading {file}')\n",
    "        loader = PyPDFLoader(file)\n",
    "    elif extension == '.docx':\n",
    "        from langchain.document_loaders import Docx2txtLoader\n",
    "        print(f'Loading {file}')\n",
    "        loader = Docx2txtLoader(file)\n",
    "    elif extension == '.txt':\n",
    "        from langchain.document_loaders import TextLoader\n",
    "        loader = TextLoader(file)\n",
    "    else:\n",
    "        print('Document format is not supported!')\n",
    "        return None\n",
    "\n",
    "    data = loader.load()\n",
    "    return data\n",
    "\n",
    "# splitting data in chunks\n",
    "def chunk_data(data, chunk_size=256, chunk_overlap=20):\n",
    "    \"\"\"\n",
    "    Split the data into chunks of a given size and overlap.\n",
    "    \"\"\"\n",
    "    from langchain.text_splitter import RecursiveCharacterTextSplitter\n",
    "    text_splitter = RecursiveCharacterTextSplitter(chunk_size=chunk_size, chunk_overlap=chunk_overlap)\n",
    "    chunks = text_splitter.split_documents(data)\n",
    "    print(f'Chunk Size: {chunk_size}, Number of chunks: {len(chunks)}')\n",
    "    return chunks\n",
    "\n",
    "# create embeddings and store in chroma db\n",
    "def create_embeddings(chunks, embeddings):\n",
    "    \"\"\"\n",
    "    Create embeddings for the given chunks and store them in a vector store.\n",
    "    \"\"\"\n",
    "    \n",
    "    # store in chroma db\n",
    "    vector_store = Chroma.from_documents(chunks, embeddings, persist_directory='./mychroma_db')\n",
    "    vector_store.persist()\n",
    "    return vector_store\n",
    "\n",
    "# load chroma db\n",
    "def load_chroma_db(embeddings):\n",
    "    \"\"\"\n",
    "    Load the vector store from the disk.\n",
    "    \"\"\"\n",
    "    vector_store = Chroma(persist_directory=\"./mychroma_db\", embedding_function=embeddings)\n",
    "    return vector_store\n",
    "\n",
    "# calculate embedding cost using tiktoken\n",
    "def calculate_embedding_cost(texts):\n",
    "    enc = tiktoken.encoding_for_model('text-embedding-3-small')\n",
    "    embedding_tokens = sum([len(enc.encode(page.page_content)) for page in texts])\n",
    "    print(f'Total Tokens: {embedding_tokens}')\n",
    "    # text-embedding-3-small\t$0.02 / 1M tokens\n",
    "    print(f'Embedding Cost in USD: {embedding_tokens / 1000000 * 0.0002:.6f}')\n",
    "    return embedding_tokens"
   ]
  },
  {
   "cell_type": "code",
   "execution_count": 3,
   "metadata": {},
   "outputs": [],
   "source": [
    "OPENAI_API_KEY = os.environ[\"OPENAI_API_KEY\"]\n",
    "\n",
    "embeddings = OpenAIEmbeddings(\n",
    "    openai_api_key=OPENAI_API_KEY, \n",
    "    model='text-embedding-3-small'\n",
    "    )"
   ]
  },
  {
   "cell_type": "code",
   "execution_count": 4,
   "metadata": {},
   "outputs": [
    {
     "name": "stdout",
     "output_type": "stream",
     "text": [
      "Loading Economy_of_China.pdf\n",
      "Chunk Size: 1024, Number of chunks: 305\n",
      "Total Tokens: 81643\n",
      "Embedding Cost in USD: 0.000016\n",
      "############################################################\n",
      "Loading Economy_of_Germany.pdf\n",
      "Chunk Size: 1024, Number of chunks: 128\n",
      "Total Tokens: 36078\n",
      "Embedding Cost in USD: 0.000007\n",
      "############################################################\n",
      "Loading Economy_of_India.pdf\n",
      "Chunk Size: 1024, Number of chunks: 327\n",
      "Total Tokens: 89935\n",
      "Embedding Cost in USD: 0.000018\n",
      "############################################################\n",
      "Loading Economy_of_Japan.pdf\n",
      "Chunk Size: 1024, Number of chunks: 162\n",
      "Total Tokens: 46050\n",
      "Embedding Cost in USD: 0.000009\n",
      "############################################################\n",
      "Loading Economy_of_the_United_Kingdom.pdf\n",
      "Chunk Size: 1024, Number of chunks: 168\n",
      "Total Tokens: 47598\n",
      "Embedding Cost in USD: 0.000010\n",
      "############################################################\n",
      "Loading Economy_of_the_United_States.pdf\n",
      "Chunk Size: 1024, Number of chunks: 301\n",
      "Total Tokens: 81247\n",
      "Embedding Cost in USD: 0.000016\n",
      "############################################################\n",
      "1391 chunks of documents loaded in the vector store\n"
     ]
    }
   ],
   "source": [
    "# load all pdfs in the directory\n",
    "pdf_list = [f for f in os.listdir('.') if f.endswith('.pdf')]\n",
    "load_pdf = False\n",
    "\n",
    "# check if vector store file path exists\n",
    "if os.path.exists('./mychroma_db'):\n",
    "    # load the vector store from the disk\n",
    "    vector_store = load_chroma_db(embeddings)\n",
    "    # check if the vector store is loaded\n",
    "    if vector_store._collection.count() > 0:\n",
    "        print('Vector store loaded successfully')\n",
    "    else:\n",
    "        load_pdf = True\n",
    "else:\n",
    "    load_pdf = True\n",
    "\n",
    "# load the pdf files if needed\n",
    "if load_pdf:\n",
    "    for file in pdf_list:\n",
    "        # Load a PDF document and split it into sections\n",
    "        data = load_document(file)\n",
    "\n",
    "        # Split the data into chunks\n",
    "        chunks = chunk_data(data, chunk_size=1024, chunk_overlap=256)\n",
    "\n",
    "        # print the cost of the embeddings\n",
    "        embedding_tokens = calculate_embedding_cost(chunks)\n",
    "\n",
    "        # Create embeddings\n",
    "        vector_store = create_embeddings(chunks, embeddings)\n",
    "\n",
    "        print('###'*20)\n",
    "\n",
    "    print(f'{vector_store._collection.count()} chunks of documents loaded in the vector store') \n",
    "else:\n",
    "    print(f'Vector store already loaded with {vector_store._collection.count()} chunks of documents')"
   ]
  },
  {
   "cell_type": "code",
   "execution_count": 5,
   "metadata": {},
   "outputs": [
    {
     "name": "stdout",
     "output_type": "stream",
     "text": [
      "Total number of chunks of documents in the vector store: 1391\n"
     ]
    }
   ],
   "source": [
    "# print total number of documents in the vector store\n",
    "print(f'Total number of chunks of documents in the vector store: {vector_store._collection.count()}')"
   ]
  },
  {
   "cell_type": "code",
   "execution_count": 20,
   "metadata": {},
   "outputs": [
    {
     "data": {
      "text/plain": [
       "{'ids': ['000bae14-0cfd-4984-afa3-498d2a7288c9'],\n",
       " 'embeddings': None,\n",
       " 'metadatas': [{'page': 11, 'source': 'Economy_of_Germany.pdf'}],\n",
       " 'documents': ['32. \"What Germany offers the world\" (https://www.economist.com/news/\\nbriefing/21552567-other-countries-would-love-import-germanys-eco\\nnomic-model-its-way-doing-things). The Economist. 14 April 2012.\\nArchived (https://web.archive.org/web/20180428020244/https://ww\\nw.economist.com/news/briefing/21552567-other-countries-would-lo\\nve-import-germanys-economic-model-its-way-doing-things) from the\\noriginal on 28 April 2018. Retrieved 28 April 2018.\\n33. \"How Does Germany do It?\" (https://www.asme.org/engineering-topi\\ncs/articles/manufacturing-processing/how-does-germany-do-it).\\nArchived (https://web.archive.org/web/20170902011441/https://ww\\nw.asme.org/engineering-topics/articles/manufacturing-processing/h\\now-does-germany-do-it) from the original on 2 September 2017.\\nRetrieved 29 April 2017.\\n34. Burger, Bruno (15 January 2020). \"Public Net Electricity Generation\\nin Germany 2019\" (https://www.ise.fraunhofer.de/content/dam/ise/e\\nn/documents/News/0120_e_ISE_News_Electricity%20Generation_'],\n",
       " 'uris': None,\n",
       " 'data': None}"
      ]
     },
     "execution_count": 20,
     "metadata": {},
     "output_type": "execute_result"
    }
   ],
   "source": [
    "# Example chunk \n",
    "vector_store.get('000bae14-0cfd-4984-afa3-498d2a7288c9')"
   ]
  },
  {
   "cell_type": "code",
   "execution_count": 7,
   "metadata": {},
   "outputs": [
    {
     "name": "stdout",
     "output_type": "stream",
     "text": [
      "(Document(page_content='Largest Economy. We Shouldn\\'t Be Shocked\" (https://nationalintere\\nst.org/feature/china-now-world%E2%80%99s-largest-economy-we-\\nshouldn%E2%80%99t-be-shocked-170719). The National Interest.\\nRetrieved 25 October 2020.\\n131. Williamson, Peter J.; Hoenderop, Simon; Hoenderop, Jochem (3\\nApril 2018). \"An alternative benchmark for the validity of China\\'s\\nGDP growth statistics\". Journal of Chinese Economic and Business\\nStudies. 16 (2): 171–191. doi:10.1080/14765284.2018.1438867 (htt\\nps://doi.org/10.1080%2F14765284.2018.1438867). ISSN 1476-\\n5284 (https://www.worldcat.org/issn/1476-5284). S2CID 158464860\\n(https://api.semanticscholar.org/CorpusID:158464860).', metadata={'page': 23, 'source': 'Economy_of_China.pdf'}), 0.8619288802146912)\n",
      "(Document(page_content=\"unde r management had more than $30 trillion in assets.[62][63]\\nDuring the Great Recession of 2008, the U.S. econom y suffered\\na significant decline.[64][65] The American Reinvestment and\\nRecovery Act was enacted by the United States Congress, and\\nin the ensuing years the U.S. experienced the longe st econom ic\\nexpansion on r ecord by J uly 2019.[66][67][68][69]\\nThe New York Stock Exchange and Nasdaq are the world's\\nlargest stock exchanges by market capitalization and trade\\nvolume.[70][71] In 2014, the U.S. econom y was ranked first in\\ninternational ranking on venture capital[72] and global research\\nand development funding.[73] Consumer spending comprised\\n68% of the U.S. econom y in 2022,[74] while its labor share of\\nincome was 44% in 2021.[75] The U.S. has the world's largest\\nconsumer market.[76] The nation's labor market has attracted\\nimmigrants from all over the world and its net migration rate is\\namong the highest in the world.[77] The U.S. is one of the top-\", metadata={'page': 0, 'source': 'Economy_of_the_United_States.pdf'}), 0.8711493015289307)\n",
      "(Document(page_content=\"econom y.[36][37][38] It is the world's largest econom y by\\nnominal GDP; it is also the second largest by purchasing power\\nparity (PPP), behind China.[39] It has the world's seventh\\nhighest per capita GDP (nominal) and the eighth highest per\\ncapita GDP (PPP) as of 2022.[40] The U.S. accounted for 26%\\nof the global econom y in 2023 in nominal terms, and about\\n15.5%  in PPP terms.[9] [41] The U.S. dollar is the currency of\\nrecord most used in international transactions and is the world's\\nreserve currency, backed by a large U.S. treasuries market, its\\nrole as the reference standard for the petrodollar system, and its\\nlinked eurodollar.[42] Several countries use it as their official\\ncurrency and in others it is the de facto currency.[43]\\nThe American econom y is fueled by high produc tivity, well\\ndeveloped transportation infrastructure, and extensive natural\\nresources.[44] Americans have the highest average household\\nand employee income among OECD member states.[45] In\", metadata={'page': 0, 'source': 'Economy_of_the_United_States.pdf'}), 0.8777472972869873)\n",
      "(Document(page_content=\"negotiation.[52]\\nBy 1890 , the United States had overtaken the British Empire as\\nthe world's most productive econom y.[53] It is the world's largest\\nproduc er of petroleum and natural gas.[54] In 2016, it was the\\nworld's largest trading country[55] and second largest\\nmanufacturer, with American manufacturing making up a fifth of\\nthe global total.[56] The U.S. not only has the largest internal\\nmarket for goods , but also dominates the services trade. Total\\nU.S. trade was $4.2 trillion in 2018.[57] Of the world's 500\\nlargest companies, 121 are headqua rtered in the U.S.[58] The\\nU.S. has the world's highest number of billionaires, with total\\nwealth of $3.0 trillion.[59][60] U.S. commercial banks had\\n$22.9  trillion in assets in December 2022.[61] U.S. global assets\\nunde r management had more than $30 trillion in assets.[62][63]\\nDuring the Great Recession of 2008, the U.S. econom y suffered\\na significant decline.[64][65] The American Reinvestment and\\nRecovery Act was enacted by the United States Congress, and\", metadata={'page': 0, 'source': 'Economy_of_the_United_States.pdf'}), 0.8795697093009949)\n"
     ]
    }
   ],
   "source": [
    "# Example Retrieved Document\n",
    "query = 'biggest economy'\n",
    "docs = vector_store.similarity_search_with_score(query, k=4)\n",
    "for doc in docs:\n",
    "    print(doc)"
   ]
  },
  {
   "cell_type": "code",
   "execution_count": 8,
   "metadata": {},
   "outputs": [
    {
     "name": "stdout",
     "output_type": "stream",
     "text": [
      "\n",
      "Document metadata: {'page': 23, 'source': 'Economy_of_China.pdf'}\n",
      "Document score: 0.8619288802146912\n",
      "Document content: Largest Economy. We Shouldn't Be Shocked\" (https://nationalintere\n",
      "st.org/feature/china-now-world%E2%80%99s-largest-economy-we-\n",
      "shouldn%E2%80%99t-be-shocked-170719). The National Interest.\n",
      "Retrieved 25...\n",
      "\n",
      "\n",
      "Document metadata: {'page': 0, 'source': 'Economy_of_the_United_States.pdf'}\n",
      "Document score: 0.8711493015289307\n",
      "Document content: unde r management had more than $30 trillion in assets.[62][63]\n",
      "During the Great Recession of 2008, the U.S. econom y suffered\n",
      "a significant decline.[64][65] The American Reinvestment and\n",
      "Recovery Act...\n",
      "\n",
      "\n",
      "Document metadata: {'page': 0, 'source': 'Economy_of_the_United_States.pdf'}\n",
      "Document score: 0.8777472972869873\n",
      "Document content: econom y.[36][37][38] It is the world's largest econom y by\n",
      "nominal GDP; it is also the second largest by purchasing power\n",
      "parity (PPP), behind China.[39] It has the world's seventh\n",
      "highest per capita...\n",
      "\n",
      "\n",
      "Document metadata: {'page': 0, 'source': 'Economy_of_the_United_States.pdf'}\n",
      "Document score: 0.8795697093009949\n",
      "Document content: negotiation.[52]\n",
      "By 1890 , the United States had overtaken the British Empire as\n",
      "the world's most productive econom y.[53] It is the world's largest\n",
      "produc er of petroleum and natural gas.[54] In 2016...\n",
      "\n"
     ]
    }
   ],
   "source": [
    "for i in range(len(docs)):\n",
    "    print(f\"\"\"\n",
    "Document metadata: {docs[i][0].metadata}\n",
    "Document score: {docs[i][-1]}\n",
    "Document content: {docs[i][0].page_content[:200]}...\n",
    "\"\"\")"
   ]
  },
  {
   "cell_type": "markdown",
   "metadata": {},
   "source": [
    "## QnA\n",
    "\n",
    "1. **Message List Compiler**\n",
    "- Retrieval from Vector Store: Retrieves the most relevant document chunks related to the user query, ensuring the AI has contextually appropriate information to generate accurate responses.\n",
    "- Document Context: Assembles contextual data from the retrieved documents, which is then used to inform the AI's responses, enhancing relevance and accuracy.\n",
    "- Chat History: Manually manage chat history to be considered in AI context. \n",
    "- Token Counting: Calculates token counts for the system and historical messages, which is essential for managing the token budget and understanding computational cost.\n",
    "\n",
    "2. **Append to Chat History**\n",
    "- This function updates the conversation history by appending the latest user query and AI response. \n",
    "\n",
    "3. **Getting AI Response**\n",
    "- Message Handling: Constructs the complete message list needed for generating an AI response, facilitating a structured dialogue.\n",
    "- Response Generation: Utilizes the chat model to generate responses based on the current conversation context and stored history.\n",
    "- Cost Calculation: Estimates the cost of processing the user's query and the AI's response in terms of tokens, which is important for budgeting and system scaling.\n",
    "\n",
    "<br>\n",
    "\n",
    "The `gpt-4-0125-preview` model is chosen for QnA model because:\n",
    "- Precision and Context Handling: The GPT-4 model is known for its high precision and ability to handle nuanced contexts, making it suitable for generating accurate and relevant responses in a Q&A system.\n",
    "- Cost Efficiency: The 0125-preview variant strikes a balance between performance and cost, offering advanced capabilities of GPT-4 while being more cost-effective than larger models.\n",
    "- Adaptability: This model variant is capable of adapting to diverse topics and user inquiries, making it versatile for a dynamic Q&A environment on complex topics like economics."
   ]
  },
  {
   "cell_type": "code",
   "execution_count": 9,
   "metadata": {},
   "outputs": [],
   "source": [
    "def num_tokens(text):\n",
    "    enc = tiktoken.get_encoding(\"cl100k_base\")\n",
    "    enc = tiktoken.encoding_for_model('gpt-4-0125-preview')\n",
    "    return len(enc.encode(text))\n",
    "\n",
    "def message_list_info(user_query, vector_store):\n",
    "\n",
    "    # Retrieval from the vector database, only get 2 most relevant chunks\n",
    "    docs = vector_store.similarity_search(user_query, k=2)\n",
    "    context = \"\\nFrom vector database: \\n\"\n",
    "    \n",
    "    for i in range(len(docs)):\n",
    "        context = context + f\"Retrieval document [{i}]: \\n\" + docs[i].page_content + \"\\n\"\n",
    "\n",
    "    # set the system message with the retrieved context from the vector database\n",
    "    system_message = f'''You are an expert economist.\n",
    "\n",
    "Your task is to answer questions about the top 6 largest economies in the world - USA, China, Germany, Japan, India, and UK.\n",
    "\n",
    "WARNING: Your max response length is 200 tokens. So, please keep your responses concise.\n",
    "\n",
    "Please refer to retrieved context (RAG) about the economy by country from Wikipedia:\n",
    "{context}\n",
    "'''\n",
    "    message_list = [\n",
    "        SystemMessage(content=system_message)\n",
    "    ]\n",
    "\n",
    "    system_message_token = num_tokens(system_message)\n",
    "\n",
    "    # Load the conversation history from a CSV file\n",
    "    df_history = pd.read_csv('static/' + 'df_history.csv')\n",
    "    history_token = 0\n",
    "\n",
    "    # Append the conversation history to the conversation history\n",
    "    if len(df_history) < 10:\n",
    "        for _, row in df_history.sort_index().iterrows():\n",
    "        # for last 10 messages to reduce cost\n",
    "            if row['entity'] == 'user':\n",
    "                message_list.append(\n",
    "                    HumanMessage(content=row['message'])\n",
    "                )\n",
    "            else:\n",
    "                message_list.append(\n",
    "                    AIMessage(content=row['message'])\n",
    "                )\n",
    "            history_token += num_tokens(row['message'])\n",
    "\n",
    "    else:\n",
    "        for _, row in df_history.sort_index().tail(10).iterrows():\n",
    "            if row['entity'] == 'user':\n",
    "                message_list.append(\n",
    "                    HumanMessage(content=row['message'])\n",
    "                )\n",
    "            else:\n",
    "                message_list.append(\n",
    "                    AIMessage(content=row['message'])\n",
    "                )\n",
    "            history_token += num_tokens(row['message'])\n",
    "\n",
    "\n",
    "    # Append the latest user query to the conversation history\n",
    "    message_list.append(\n",
    "        HumanMessage(content=user_query)\n",
    "    )\n",
    "    user_query_token = num_tokens(user_query)\n",
    "    \n",
    "    token_dict = {\n",
    "        'system_message_token': system_message_token,\n",
    "        'history_token': history_token,\n",
    "        'user_query_token': user_query_token\n",
    "    }\n",
    "\n",
    "    return message_list, user_query, token_dict\n",
    "\n",
    "def append_to_history(ai_response_text, user_query):\n",
    "    csv_file = 'static/df_history.csv'\n",
    "    df_history = pd.read_csv(csv_file)\n",
    "\n",
    "    df_history = pd.concat([\n",
    "        df_history,\n",
    "        pd.DataFrame({\n",
    "            'entity': ['user', 'ai_copilot'],\n",
    "            'message':[user_query, ai_response_text]\n",
    "        })\n",
    "    ], ignore_index=True)\n",
    "    df_history.to_csv(csv_file, index=False)\n",
    "\n",
    "\n",
    "def get_ai_response(open_ai_chat_model, user_query, vector_store):\n",
    "    # Get the message list\n",
    "    message_list, user_query, token_dict = message_list_info(user_query, vector_store)\n",
    "\n",
    "    # Get the AI response\n",
    "    openai_response = open_ai_chat_model(messages=message_list)\n",
    "    ai_response_text = openai_response.content\n",
    "\n",
    "    # Save the conversation history to a CSV file\n",
    "    append_to_history(ai_response_text, user_query)\n",
    "\n",
    "    gpt4_cost = [10/1e6, 30/1e6] # input, output cost per token\n",
    "    # print the tokens\n",
    "    print(f\"System message token: {token_dict['system_message_token']}\")\n",
    "    print(f\"History message token: {token_dict['history_token']}\")\n",
    "    print(f\"User query token: {token_dict['user_query_token']}\")\n",
    "    print(f\"AI response token: {num_tokens(ai_response_text)}\")\n",
    "    # print the cost\n",
    "    print(f\"System message cost: {token_dict['system_message_token'] * gpt4_cost[0]:.6f}\")\n",
    "    print(f\"History message cost: {token_dict['history_token'] * gpt4_cost[0]:.6f}\")\n",
    "    print(f\"User query cost: {token_dict['user_query_token'] * gpt4_cost[0]:.6f}\")\n",
    "    print(f\"AI response cost: {num_tokens(ai_response_text) * gpt4_cost[1]:.6f}\")\n",
    "\n",
    "    print(\"###\"*20)\n",
    "    print(f\"User Query: {user_query}\\nAI Response: {ai_response_text}\")\n",
    "\n",
    "    return ai_response_text"
   ]
  },
  {
   "cell_type": "code",
   "execution_count": 10,
   "metadata": {},
   "outputs": [
    {
     "name": "stderr",
     "output_type": "stream",
     "text": [
      "c:\\Users\\roedj\\AppData\\Local\\Programs\\Python\\Python310\\lib\\site-packages\\langchain_core\\_api\\deprecation.py:117: LangChainDeprecationWarning: The class `langchain_community.chat_models.openai.ChatOpenAI` was deprecated in langchain-community 0.0.10 and will be removed in 0.2.0. An updated version of the class exists in the langchain-openai package and should be used instead. To use it run `pip install -U langchain-openai` and import as `from langchain_openai import ChatOpenAI`.\n",
      "  warn_deprecated(\n"
     ]
    }
   ],
   "source": [
    "# create static folder\n",
    "if not os.path.exists('static'):\n",
    "    os.makedirs('static')\n",
    "# create df for history and save to csv\n",
    "df = pd.DataFrame(columns=['entity', 'message'])\n",
    "df.to_csv('static/df_history.csv', index=False)\n",
    "\n",
    "# Initialize the OpenAI chat model\n",
    "openai_chat_model = ChatOpenAI(\n",
    "    openai_api_key=OPENAI_API_KEY,\n",
    "    model='gpt-4-0125-preview',\n",
    "    temperature=0.5,\n",
    "    max_tokens=350,\n",
    ")"
   ]
  },
  {
   "cell_type": "code",
   "execution_count": 11,
   "metadata": {},
   "outputs": [
    {
     "name": "stderr",
     "output_type": "stream",
     "text": [
      "c:\\Users\\roedj\\AppData\\Local\\Programs\\Python\\Python310\\lib\\site-packages\\langchain_core\\_api\\deprecation.py:117: LangChainDeprecationWarning: The function `__call__` was deprecated in LangChain 0.1.7 and will be removed in 0.2.0. Use invoke instead.\n",
      "  warn_deprecated(\n"
     ]
    },
    {
     "name": "stdout",
     "output_type": "stream",
     "text": [
      "System message token: 443\n",
      "History message token: 0\n",
      "User query token: 5\n",
      "AI response token: 39\n",
      "System message cost: 0.004430\n",
      "History message cost: 0.000000\n",
      "User query cost: 0.000050\n",
      "AI response cost: 0.001170\n",
      "############################################################\n",
      "User Query: What is your goal?\n",
      "AI Response: My goal is to provide concise and informative responses to questions regarding the economies of the top 6 largest economies in the world: USA, China, Germany, Japan, India, and the UK.\n"
     ]
    },
    {
     "data": {
      "text/plain": [
       "'My goal is to provide concise and informative responses to questions regarding the economies of the top 6 largest economies in the world: USA, China, Germany, Japan, India, and the UK.'"
      ]
     },
     "execution_count": 11,
     "metadata": {},
     "output_type": "execute_result"
    }
   ],
   "source": [
    "query = \"What is your goal?\"\n",
    "\n",
    "get_ai_response(openai_chat_model, query, vector_store)"
   ]
  },
  {
   "cell_type": "code",
   "execution_count": 12,
   "metadata": {},
   "outputs": [
    {
     "name": "stdout",
     "output_type": "stream",
     "text": [
      "System message token: 700\n",
      "History message token: 44\n",
      "User query token: 10\n",
      "AI response token: 34\n",
      "System message cost: 0.007000\n",
      "History message cost: 0.000440\n",
      "User query cost: 0.000100\n",
      "AI response cost: 0.001020\n",
      "############################################################\n",
      "User Query: What is the latest GDP of the United States?\n",
      "AI Response: The latest nominal GDP of the United States was $19.5 trillion in 2017, and it reached $20.1 trillion in Q1 2018.\n"
     ]
    },
    {
     "data": {
      "text/plain": [
       "'The latest nominal GDP of the United States was $19.5 trillion in 2017, and it reached $20.1 trillion in Q1 2018.'"
      ]
     },
     "execution_count": 12,
     "metadata": {},
     "output_type": "execute_result"
    }
   ],
   "source": [
    "query = \"What is the latest GDP of the United States?\"\n",
    "\n",
    "get_ai_response(openai_chat_model, query, vector_store)"
   ]
  },
  {
   "cell_type": "code",
   "execution_count": 13,
   "metadata": {},
   "outputs": [
    {
     "name": "stdout",
     "output_type": "stream",
     "text": [
      "System message token: 511\n",
      "History message token: 88\n",
      "User query token: 11\n",
      "AI response token: 200\n",
      "System message cost: 0.005110\n",
      "History message cost: 0.000880\n",
      "User query cost: 0.000110\n",
      "AI response cost: 0.006000\n",
      "############################################################\n",
      "User Query: Can you explain the main industries driving China's economy?\n",
      "AI Response: China's economy is driven by several key industries, including:\n",
      "\n",
      "1. **Manufacturing**: As the world's manufacturing powerhouse, it produces a significant portion of global industrial products, including electronics, apparel, and machinery.\n",
      "2. **Mining and Ore Processing**: Essential for its steel and aluminum production.\n",
      "3. **Steel and Aluminium Production**: Vital materials for construction and manufacturing.\n",
      "4. **Coal**: A major energy source.\n",
      "5. **Textiles and Apparel**: Significant export goods.\n",
      "6. **Petroleum and Chemicals**: Important for energy and various industrial processes.\n",
      "7. **Food Processing**: A growing sector catering to both domestic and international markets.\n",
      "8. **Automobiles and Transportation Equipment**: Including cars, rail cars, ships, and aircraft.\n",
      "9. **Consumer Products**: Such as footwear, toys, and electronics.\n",
      "10. **Telecommunications and Information Technology**: A rapidly growing sector.\n",
      "\n",
      "These industries reflect China's transition from a primarily agrarian economy to an industrial and service-oriented economy.\n"
     ]
    },
    {
     "data": {
      "text/plain": [
       "\"China's economy is driven by several key industries, including:\\n\\n1. **Manufacturing**: As the world's manufacturing powerhouse, it produces a significant portion of global industrial products, including electronics, apparel, and machinery.\\n2. **Mining and Ore Processing**: Essential for its steel and aluminum production.\\n3. **Steel and Aluminium Production**: Vital materials for construction and manufacturing.\\n4. **Coal**: A major energy source.\\n5. **Textiles and Apparel**: Significant export goods.\\n6. **Petroleum and Chemicals**: Important for energy and various industrial processes.\\n7. **Food Processing**: A growing sector catering to both domestic and international markets.\\n8. **Automobiles and Transportation Equipment**: Including cars, rail cars, ships, and aircraft.\\n9. **Consumer Products**: Such as footwear, toys, and electronics.\\n10. **Telecommunications and Information Technology**: A rapidly growing sector.\\n\\nThese industries reflect China's transition from a primarily agrarian economy to an industrial and service-oriented economy.\""
      ]
     },
     "execution_count": 13,
     "metadata": {},
     "output_type": "execute_result"
    }
   ],
   "source": [
    "query = \"Can you explain the main industries driving China's economy?\"\n",
    "\n",
    "get_ai_response(openai_chat_model, query, vector_store)"
   ]
  },
  {
   "cell_type": "code",
   "execution_count": 14,
   "metadata": {},
   "outputs": [
    {
     "name": "stdout",
     "output_type": "stream",
     "text": [
      "System message token: 552\n",
      "History message token: 299\n",
      "User query token: 17\n",
      "AI response token: 338\n",
      "System message cost: 0.005520\n",
      "History message cost: 0.002990\n",
      "User query cost: 0.000170\n",
      "AI response cost: 0.010140\n",
      "############################################################\n",
      "User Query: Based on the information you provided about China, how does Germany's industrial base differ?\n",
      "AI Response: Germany's industrial base differs from China's in several key aspects:\n",
      "\n",
      "1. **High-Quality Manufacturing**: Germany is renowned for its high-quality manufacturing, particularly in automotive, machinery, and chemical products. Brands like BMW, Siemens, and BASF are global leaders.\n",
      "\n",
      "2. **Engineering and Innovation**: Germany places a strong emphasis on engineering excellence, innovation, and high-value-added manufacturing. It is a world leader in developing and manufacturing high-tech machinery and industrial equipment.\n",
      "\n",
      "3. **Renewable Energy**: Germany is a pioneer in the renewable energy sector, particularly in wind power, and is committed to the Energiewende, transitioning to renewable energy. It leads in the production of wind turbines.\n",
      "\n",
      "4. **Chemical Industry**: While both countries have strong chemical industries, Germany's BASF is the world's largest chemical producer, focusing on a wide range of chemical products for various industries.\n",
      "\n",
      "5. **Automotive Industry**: Both countries have strong automotive sectors, but Germany's is notable for its focus on premium and high-performance vehicles with brands like Mercedes-Benz, Audi, and Porsche.\n",
      "\n",
      "6. **Applied Research and Development**: Germany excels in applied research, bridging the latest university insights with industry-specific product and process improvements, which is crucial for its industrial sectors.\n",
      "\n",
      "7. **Resource Base**: Unlike China, which has a broad base of natural resources including significant mining sectors, Germany's industrial base is less reliant on domestic natural resources and more on imported materials, focusing instead on value-added manufacturing and technology.\n",
      "\n",
      "In summary, Germany's industrial base is characterized by high-value-added manufacturing, a focus on quality and innovation, leadership in renewable energy, and a strong commitment to research and development.\n"
     ]
    },
    {
     "data": {
      "text/plain": [
       "\"Germany's industrial base differs from China's in several key aspects:\\n\\n1. **High-Quality Manufacturing**: Germany is renowned for its high-quality manufacturing, particularly in automotive, machinery, and chemical products. Brands like BMW, Siemens, and BASF are global leaders.\\n\\n2. **Engineering and Innovation**: Germany places a strong emphasis on engineering excellence, innovation, and high-value-added manufacturing. It is a world leader in developing and manufacturing high-tech machinery and industrial equipment.\\n\\n3. **Renewable Energy**: Germany is a pioneer in the renewable energy sector, particularly in wind power, and is committed to the Energiewende, transitioning to renewable energy. It leads in the production of wind turbines.\\n\\n4. **Chemical Industry**: While both countries have strong chemical industries, Germany's BASF is the world's largest chemical producer, focusing on a wide range of chemical products for various industries.\\n\\n5. **Automotive Industry**: Both countries have strong automotive sectors, but Germany's is notable for its focus on premium and high-performance vehicles with brands like Mercedes-Benz, Audi, and Porsche.\\n\\n6. **Applied Research and Development**: Germany excels in applied research, bridging the latest university insights with industry-specific product and process improvements, which is crucial for its industrial sectors.\\n\\n7. **Resource Base**: Unlike China, which has a broad base of natural resources including significant mining sectors, Germany's industrial base is less reliant on domestic natural resources and more on imported materials, focusing instead on value-added manufacturing and technology.\\n\\nIn summary, Germany's industrial base is characterized by high-value-added manufacturing, a focus on quality and innovation, leadership in renewable energy, and a strong commitment to research and development.\""
      ]
     },
     "execution_count": 14,
     "metadata": {},
     "output_type": "execute_result"
    }
   ],
   "source": [
    "query = \"Based on the information you provided about China, how does Germany's industrial base differ?\"\n",
    "\n",
    "get_ai_response(openai_chat_model, query, vector_store)"
   ]
  },
  {
   "cell_type": "code",
   "execution_count": 15,
   "metadata": {},
   "outputs": [
    {
     "name": "stdout",
     "output_type": "stream",
     "text": [
      "System message token: 661\n",
      "History message token: 654\n",
      "User query token: 15\n",
      "AI response token: 173\n",
      "System message cost: 0.006610\n",
      "History message cost: 0.006540\n",
      "User query cost: 0.000150\n",
      "AI response cost: 0.005190\n",
      "############################################################\n",
      "User Query: What are the key challenges facing Japan's economy as per the latest data?\n",
      "AI Response: Japan's economy faces several key challenges:\n",
      "\n",
      "1. **High Levels of Public Debt**: With public debt at approximately 260% of GDP, Japan has the highest level of public debt among developed nations. A significant portion of this debt is held by the Bank of Japan.\n",
      "\n",
      "2. **Aging and Declining Population**: Japan's population peaked in 2010 and has been declining since. Projections indicate it could fall below 100 million by the mid-21st century, impacting labor markets, consumption, and economic growth.\n",
      "\n",
      "3. **Economic Growth**: Japan's GDP growth rates are modest, with projections of 1.3% in 2023 and 1.0% in 2024, indicating slow economic expansion.\n",
      "\n",
      "These challenges, coupled with the need for structural reforms in labor and markets, pose considerable obstacles to Japan's economic prospects.\n"
     ]
    },
    {
     "data": {
      "text/plain": [
       "\"Japan's economy faces several key challenges:\\n\\n1. **High Levels of Public Debt**: With public debt at approximately 260% of GDP, Japan has the highest level of public debt among developed nations. A significant portion of this debt is held by the Bank of Japan.\\n\\n2. **Aging and Declining Population**: Japan's population peaked in 2010 and has been declining since. Projections indicate it could fall below 100 million by the mid-21st century, impacting labor markets, consumption, and economic growth.\\n\\n3. **Economic Growth**: Japan's GDP growth rates are modest, with projections of 1.3% in 2023 and 1.0% in 2024, indicating slow economic expansion.\\n\\nThese challenges, coupled with the need for structural reforms in labor and markets, pose considerable obstacles to Japan's economic prospects.\""
      ]
     },
     "execution_count": 15,
     "metadata": {},
     "output_type": "execute_result"
    }
   ],
   "source": [
    "query = \"What are the key challenges facing Japan's economy as per the latest data?\"\n",
    "\n",
    "get_ai_response(openai_chat_model, query, vector_store)"
   ]
  },
  {
   "cell_type": "code",
   "execution_count": 16,
   "metadata": {},
   "outputs": [
    {
     "name": "stdout",
     "output_type": "stream",
     "text": [
      "System message token: 675\n",
      "History message token: 842\n",
      "User query token: 23\n",
      "AI response token: 286\n",
      "System message cost: 0.006750\n",
      "History message cost: 0.008420\n",
      "User query cost: 0.000230\n",
      "AI response cost: 0.008580\n",
      "############################################################\n",
      "User Query: Could you update me on any major economic reforms in the UK mentioned in the documents, and discuss their potential impact?\n",
      "AI Response: The documents mention the UK's response to the financial crisis and economic downturn around 2008-2009, including significant measures such as cutting interest rates to historic lows and initiating quantitative easing (QE) by the Bank of England (BoE). These actions aimed to boost lending, stimulate economic activity, and support the UK economy during a period of severe recession.\n",
      "\n",
      "The potential impacts of these reforms include:\n",
      "\n",
      "1. **Stimulated Economic Activity**: Lower interest rates made borrowing cheaper for businesses and consumers, encouraging investment and spending.\n",
      "\n",
      "2. **Increased Money Supply**: QE, involving the purchase of government securities, increased the money supply, further aiming to stimulate economic activity by encouraging lending and investment.\n",
      "\n",
      "3. **Inflationary Pressures**: While these measures can boost economic activity, they also carry the risk of leading to inflationary pressures, as an increased money supply can lead to higher prices if not matched by output increases.\n",
      "\n",
      "4. **Public Debt**: These measures can also increase public debt levels, as QE often involves the purchase of government bonds, adding to the government's liabilities.\n",
      "\n",
      "5. **Financial Sector Stability**: By supporting lending and investment, these policies aimed to stabilize the financial sector, which was under significant stress during the financial crisis.\n",
      "\n",
      "In the long term, the effectiveness of these reforms in promoting sustainable economic growth depends on various factors, including global economic conditions, domestic fiscal policies, and structural reforms to address underlying economic vulnerabilities.\n"
     ]
    },
    {
     "data": {
      "text/plain": [
       "\"The documents mention the UK's response to the financial crisis and economic downturn around 2008-2009, including significant measures such as cutting interest rates to historic lows and initiating quantitative easing (QE) by the Bank of England (BoE). These actions aimed to boost lending, stimulate economic activity, and support the UK economy during a period of severe recession.\\n\\nThe potential impacts of these reforms include:\\n\\n1. **Stimulated Economic Activity**: Lower interest rates made borrowing cheaper for businesses and consumers, encouraging investment and spending.\\n\\n2. **Increased Money Supply**: QE, involving the purchase of government securities, increased the money supply, further aiming to stimulate economic activity by encouraging lending and investment.\\n\\n3. **Inflationary Pressures**: While these measures can boost economic activity, they also carry the risk of leading to inflationary pressures, as an increased money supply can lead to higher prices if not matched by output increases.\\n\\n4. **Public Debt**: These measures can also increase public debt levels, as QE often involves the purchase of government bonds, adding to the government's liabilities.\\n\\n5. **Financial Sector Stability**: By supporting lending and investment, these policies aimed to stabilize the financial sector, which was under significant stress during the financial crisis.\\n\\nIn the long term, the effectiveness of these reforms in promoting sustainable economic growth depends on various factors, including global economic conditions, domestic fiscal policies, and structural reforms to address underlying economic vulnerabilities.\""
      ]
     },
     "execution_count": 16,
     "metadata": {},
     "output_type": "execute_result"
    }
   ],
   "source": [
    "query = \"Could you update me on any major economic reforms in the UK mentioned in the documents, and discuss their potential impact?\"\n",
    "\n",
    "get_ai_response(openai_chat_model, query, vector_store)"
   ]
  },
  {
   "cell_type": "code",
   "execution_count": 17,
   "metadata": {},
   "outputs": [
    {
     "name": "stdout",
     "output_type": "stream",
     "text": [
      "System message token: 614\n",
      "History message token: 1107\n",
      "User query token: 16\n",
      "AI response token: 331\n",
      "System message cost: 0.006140\n",
      "History message cost: 0.011070\n",
      "User query cost: 0.000160\n",
      "AI response cost: 0.009930\n",
      "############################################################\n",
      "User Query: Can you please explain the high economic growth rate of India in the last decade?\n",
      "AI Response: India's high economic growth rate in the last decade can be attributed to several factors:\n",
      "\n",
      "1. **Economic Liberalization**: Since the 1990s, India has been progressively liberalizing its economy, reducing state control and making it easier for foreign businesses to invest and operate in India. This has spurred growth in sectors like services, IT, and manufacturing.\n",
      "\n",
      "2. **Demographics**: India has a young population, with a median age significantly lower than that of other major economies. This demographic dividend has contributed to a growing labor force and increasing domestic consumption.\n",
      "\n",
      "3. **Services Sector**: The services sector, especially IT and IT-enabled services, has been a significant driver of India's economic growth, contributing substantially to GDP, employment, and exports.\n",
      "\n",
      "4. **Urbanization**: Rapid urbanization has contributed to economic growth by creating new markets, increasing consumption, and attracting investment in urban infrastructure and real estate.\n",
      "\n",
      "5. **Government Initiatives**: Various government initiatives aimed at improving infrastructure, digitalization (Digital India), making it easier to do business (Make in India), and financial inclusion (Jan Dhan Yojana) have also played roles in stimulating economic activity.\n",
      "\n",
      "6. **Foreign Direct Investment (FDI)**: India has become one of the top destinations for FDI, with reforms aimed at attracting foreign investment in various sectors, including defense, railways, and insurance.\n",
      "\n",
      "7. **Consumption and Investment**: A growing middle class and increased investment in infrastructure have further fueled economic growth.\n",
      "\n",
      "These factors, combined with India's significant market size, have contributed to its high growth rates, making it one of the fastest-growing major economies in the world.\n"
     ]
    },
    {
     "data": {
      "text/plain": [
       "\"India's high economic growth rate in the last decade can be attributed to several factors:\\n\\n1. **Economic Liberalization**: Since the 1990s, India has been progressively liberalizing its economy, reducing state control and making it easier for foreign businesses to invest and operate in India. This has spurred growth in sectors like services, IT, and manufacturing.\\n\\n2. **Demographics**: India has a young population, with a median age significantly lower than that of other major economies. This demographic dividend has contributed to a growing labor force and increasing domestic consumption.\\n\\n3. **Services Sector**: The services sector, especially IT and IT-enabled services, has been a significant driver of India's economic growth, contributing substantially to GDP, employment, and exports.\\n\\n4. **Urbanization**: Rapid urbanization has contributed to economic growth by creating new markets, increasing consumption, and attracting investment in urban infrastructure and real estate.\\n\\n5. **Government Initiatives**: Various government initiatives aimed at improving infrastructure, digitalization (Digital India), making it easier to do business (Make in India), and financial inclusion (Jan Dhan Yojana) have also played roles in stimulating economic activity.\\n\\n6. **Foreign Direct Investment (FDI)**: India has become one of the top destinations for FDI, with reforms aimed at attracting foreign investment in various sectors, including defense, railways, and insurance.\\n\\n7. **Consumption and Investment**: A growing middle class and increased investment in infrastructure have further fueled economic growth.\\n\\nThese factors, combined with India's significant market size, have contributed to its high growth rates, making it one of the fastest-growing major economies in the world.\""
      ]
     },
     "execution_count": 17,
     "metadata": {},
     "output_type": "execute_result"
    }
   ],
   "source": [
    "query = \"Can you please explain the high economic growth rate of India in the last decade?\"\n",
    "\n",
    "get_ai_response(openai_chat_model, query, vector_store)"
   ]
  },
  {
   "cell_type": "code",
   "execution_count": 18,
   "metadata": {},
   "outputs": [
    {
     "data": {
      "text/html": [
       "<div>\n",
       "<style scoped>\n",
       "    .dataframe tbody tr th:only-of-type {\n",
       "        vertical-align: middle;\n",
       "    }\n",
       "\n",
       "    .dataframe tbody tr th {\n",
       "        vertical-align: top;\n",
       "    }\n",
       "\n",
       "    .dataframe thead th {\n",
       "        text-align: right;\n",
       "    }\n",
       "</style>\n",
       "<table border=\"1\" class=\"dataframe\">\n",
       "  <thead>\n",
       "    <tr style=\"text-align: right;\">\n",
       "      <th></th>\n",
       "      <th>entity</th>\n",
       "      <th>message</th>\n",
       "    </tr>\n",
       "  </thead>\n",
       "  <tbody>\n",
       "    <tr>\n",
       "      <th>0</th>\n",
       "      <td>user</td>\n",
       "      <td>What is your goal?</td>\n",
       "    </tr>\n",
       "    <tr>\n",
       "      <th>1</th>\n",
       "      <td>ai_copilot</td>\n",
       "      <td>My goal is to provide concise and informative ...</td>\n",
       "    </tr>\n",
       "    <tr>\n",
       "      <th>2</th>\n",
       "      <td>user</td>\n",
       "      <td>What is the latest GDP of the United States?</td>\n",
       "    </tr>\n",
       "    <tr>\n",
       "      <th>3</th>\n",
       "      <td>ai_copilot</td>\n",
       "      <td>The latest nominal GDP of the United States wa...</td>\n",
       "    </tr>\n",
       "    <tr>\n",
       "      <th>4</th>\n",
       "      <td>user</td>\n",
       "      <td>Can you explain the main industries driving Ch...</td>\n",
       "    </tr>\n",
       "    <tr>\n",
       "      <th>5</th>\n",
       "      <td>ai_copilot</td>\n",
       "      <td>China's economy is driven by several key indus...</td>\n",
       "    </tr>\n",
       "    <tr>\n",
       "      <th>6</th>\n",
       "      <td>user</td>\n",
       "      <td>Based on the information you provided about Ch...</td>\n",
       "    </tr>\n",
       "    <tr>\n",
       "      <th>7</th>\n",
       "      <td>ai_copilot</td>\n",
       "      <td>Germany's industrial base differs from China's...</td>\n",
       "    </tr>\n",
       "    <tr>\n",
       "      <th>8</th>\n",
       "      <td>user</td>\n",
       "      <td>What are the key challenges facing Japan's eco...</td>\n",
       "    </tr>\n",
       "    <tr>\n",
       "      <th>9</th>\n",
       "      <td>ai_copilot</td>\n",
       "      <td>Japan's economy faces several key challenges:\\...</td>\n",
       "    </tr>\n",
       "    <tr>\n",
       "      <th>10</th>\n",
       "      <td>user</td>\n",
       "      <td>Could you update me on any major economic refo...</td>\n",
       "    </tr>\n",
       "    <tr>\n",
       "      <th>11</th>\n",
       "      <td>ai_copilot</td>\n",
       "      <td>The documents mention the UK's response to the...</td>\n",
       "    </tr>\n",
       "    <tr>\n",
       "      <th>12</th>\n",
       "      <td>user</td>\n",
       "      <td>Can you please explain the high economic growt...</td>\n",
       "    </tr>\n",
       "    <tr>\n",
       "      <th>13</th>\n",
       "      <td>ai_copilot</td>\n",
       "      <td>India's high economic growth rate in the last ...</td>\n",
       "    </tr>\n",
       "  </tbody>\n",
       "</table>\n",
       "</div>"
      ],
      "text/plain": [
       "        entity                                            message\n",
       "0         user                                 What is your goal?\n",
       "1   ai_copilot  My goal is to provide concise and informative ...\n",
       "2         user       What is the latest GDP of the United States?\n",
       "3   ai_copilot  The latest nominal GDP of the United States wa...\n",
       "4         user  Can you explain the main industries driving Ch...\n",
       "5   ai_copilot  China's economy is driven by several key indus...\n",
       "6         user  Based on the information you provided about Ch...\n",
       "7   ai_copilot  Germany's industrial base differs from China's...\n",
       "8         user  What are the key challenges facing Japan's eco...\n",
       "9   ai_copilot  Japan's economy faces several key challenges:\\...\n",
       "10        user  Could you update me on any major economic refo...\n",
       "11  ai_copilot  The documents mention the UK's response to the...\n",
       "12        user  Can you please explain the high economic growt...\n",
       "13  ai_copilot  India's high economic growth rate in the last ..."
      ]
     },
     "execution_count": 18,
     "metadata": {},
     "output_type": "execute_result"
    }
   ],
   "source": [
    "df_history = pd.read_csv('static/' + 'df_history.csv')\n",
    "df_history"
   ]
  },
  {
   "cell_type": "code",
   "execution_count": null,
   "metadata": {},
   "outputs": [],
   "source": []
  }
 ],
 "metadata": {
  "kernelspec": {
   "display_name": "Python 3",
   "language": "python",
   "name": "python3"
  },
  "language_info": {
   "codemirror_mode": {
    "name": "ipython",
    "version": 3
   },
   "file_extension": ".py",
   "mimetype": "text/x-python",
   "name": "python",
   "nbconvert_exporter": "python",
   "pygments_lexer": "ipython3",
   "version": "3.10.6"
  }
 },
 "nbformat": 4,
 "nbformat_minor": 2
}
